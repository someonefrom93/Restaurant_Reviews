{
 "cells": [
  {
   "cell_type": "code",
   "execution_count": 1,
   "metadata": {},
   "outputs": [
    {
     "name": "stdout",
     "output_type": "stream",
     "text": [
      "Cuda ststus: True\n",
      "Divices available: 1\n",
      "Device name: NVIDIA GeForce GTX 1650\n"
     ]
    }
   ],
   "source": [
    "import pandas as pd\n",
    "import numpy as np\n",
    "import matplotlib.pyplot as plt\n",
    "import pyarrow\n",
    "\n",
    "import os\n",
    "os.environ[\"PYTORCH_CUDA_ALLOC_CONF\"] = \"max_split_size_mb: 3000\"\n",
    "\n",
    "import torch\n",
    "\n",
    "print('Cuda ststus: %s' % str(torch.cuda.is_available()))\n",
    "print('Divices available: %d' % torch.cuda.device_count())\n",
    "print('Device name: %s' % torch.cuda.get_device_name())"
   ]
  },
  {
   "cell_type": "markdown",
   "metadata": {},
   "source": [
    "### Spark Session"
   ]
  },
  {
   "cell_type": "code",
   "execution_count": 2,
   "metadata": {},
   "outputs": [
    {
     "data": {
      "text/html": [
       "\n",
       "            <div>\n",
       "                <p><b>SparkSession - in-memory</b></p>\n",
       "                \n",
       "        <div>\n",
       "            <p><b>SparkContext</b></p>\n",
       "\n",
       "            <p><a href=\"http://DESKTOP-U3AQAUL.mshome.net:4040\">Spark UI</a></p>\n",
       "\n",
       "            <dl>\n",
       "              <dt>Version</dt>\n",
       "                <dd><code>v3.3.3</code></dd>\n",
       "              <dt>Master</dt>\n",
       "                <dd><code>local[*]</code></dd>\n",
       "              <dt>AppName</dt>\n",
       "                <dd><code>Reviews Session</code></dd>\n",
       "            </dl>\n",
       "        </div>\n",
       "        \n",
       "            </div>\n",
       "        "
      ],
      "text/plain": [
       "<pyspark.sql.session.SparkSession at 0x287d9906bc0>"
      ]
     },
     "execution_count": 2,
     "metadata": {},
     "output_type": "execute_result"
    }
   ],
   "source": [
    "import findspark\n",
    "findspark.init('C:\\spark')\n",
    "\n",
    "from pyspark.sql import SparkSession\n",
    "\n",
    "spark = (SparkSession.builder\n",
    "         .appName('Reviews Session')\n",
    "         .config('spark.executor.memory', '4g')\n",
    "         .config('spark.executor.cores', '2')\n",
    "         .config('spark.driver.memory', '2g')\n",
    "         .getOrCreate())\n",
    "\n",
    "spark"
   ]
  },
  {
   "cell_type": "markdown",
   "metadata": {},
   "source": [
    "### Getting unzipped files from other file path"
   ]
  },
  {
   "cell_type": "code",
   "execution_count": 3,
   "metadata": {},
   "outputs": [],
   "source": [
    "from file_handling_tools import FileHandling\n",
    "\n",
    "# This will decompress the multiple zip files.\n",
    "# Having the input directory where the zip files are, and the output directory where the unzipped files will be stored.\n",
    "\n",
    "input_directory = r\"C:\\Users\\jdieg\\Desktop\\henry\\proyectos\\FINAL\\data\\google_maps\"\n",
    "output_directory = r\"C:\\Users\\jdieg\\Desktop\\data_camp\\projects\\restaurant_reviews\\data\\google\"\n",
    "\n",
    "# file_handling = FileHandling(input_directory, output_directory)\n",
    "\n",
    "# # Execute the decompression process (Execute only for the first time)\n",
    "# file_handling.unzip_folders()"
   ]
  },
  {
   "cell_type": "markdown",
   "metadata": {},
   "source": [
    "### Have a look at Data Files.\n",
    "On:\n",
    "* metadata-sitios (json files)\n",
    "* reviews (json files)\n",
    "\n",
    "To get fields names, type of data, and so on.."
   ]
  },
  {
   "cell_type": "markdown",
   "metadata": {},
   "source": [
    "#### metadata-sitios (json file)"
   ]
  },
  {
   "cell_type": "code",
   "execution_count": 4,
   "metadata": {},
   "outputs": [],
   "source": [
    "# Multi Loading json files for metadata\n",
    "metadata_df = spark.read.json(\"data/google/*00[2-3]/*/metadata*/*.json\")"
   ]
  },
  {
   "cell_type": "code",
   "execution_count": 5,
   "metadata": {},
   "outputs": [
    {
     "data": {
      "text/plain": [
       "3025011"
      ]
     },
     "execution_count": 5,
     "metadata": {},
     "output_type": "execute_result"
    }
   ],
   "source": [
    "metadata_df.count()"
   ]
  },
  {
   "cell_type": "code",
   "execution_count": 6,
   "metadata": {},
   "outputs": [
    {
     "name": "stdout",
     "output_type": "stream",
     "text": [
      "root\n",
      " |-- MISC: struct (nullable = true)\n",
      " |    |-- Accessibility: array (nullable = true)\n",
      " |    |    |-- element: string (containsNull = true)\n",
      " |    |-- Activities: array (nullable = true)\n",
      " |    |    |-- element: string (containsNull = true)\n",
      " |    |-- Amenities: array (nullable = true)\n",
      " |    |    |-- element: string (containsNull = true)\n",
      " |    |-- Atmosphere: array (nullable = true)\n",
      " |    |    |-- element: string (containsNull = true)\n",
      " |    |-- Crowd: array (nullable = true)\n",
      " |    |    |-- element: string (containsNull = true)\n",
      " |    |-- Dining options: array (nullable = true)\n",
      " |    |    |-- element: string (containsNull = true)\n",
      " |    |-- From the business: array (nullable = true)\n",
      " |    |    |-- element: string (containsNull = true)\n",
      " |    |-- Getting here: array (nullable = true)\n",
      " |    |    |-- element: string (containsNull = true)\n",
      " |    |-- Health & safety: array (nullable = true)\n",
      " |    |    |-- element: string (containsNull = true)\n",
      " |    |-- Health and safety: array (nullable = true)\n",
      " |    |    |-- element: string (containsNull = true)\n",
      " |    |-- Highlights: array (nullable = true)\n",
      " |    |    |-- element: string (containsNull = true)\n",
      " |    |-- Lodging options: array (nullable = true)\n",
      " |    |    |-- element: string (containsNull = true)\n",
      " |    |-- Offerings: array (nullable = true)\n",
      " |    |    |-- element: string (containsNull = true)\n",
      " |    |-- Payments: array (nullable = true)\n",
      " |    |    |-- element: string (containsNull = true)\n",
      " |    |-- Planning: array (nullable = true)\n",
      " |    |    |-- element: string (containsNull = true)\n",
      " |    |-- Popular for: array (nullable = true)\n",
      " |    |    |-- element: string (containsNull = true)\n",
      " |    |-- Recycling: array (nullable = true)\n",
      " |    |    |-- element: string (containsNull = true)\n",
      " |    |-- Service options: array (nullable = true)\n",
      " |    |    |-- element: string (containsNull = true)\n",
      " |-- address: string (nullable = true)\n",
      " |-- avg_rating: double (nullable = true)\n",
      " |-- category: array (nullable = true)\n",
      " |    |-- element: string (containsNull = true)\n",
      " |-- description: string (nullable = true)\n",
      " |-- gmap_id: string (nullable = true)\n",
      " |-- hours: array (nullable = true)\n",
      " |    |-- element: array (containsNull = true)\n",
      " |    |    |-- element: string (containsNull = true)\n",
      " |-- latitude: double (nullable = true)\n",
      " |-- longitude: double (nullable = true)\n",
      " |-- name: string (nullable = true)\n",
      " |-- num_of_reviews: long (nullable = true)\n",
      " |-- price: string (nullable = true)\n",
      " |-- relative_results: array (nullable = true)\n",
      " |    |-- element: string (containsNull = true)\n",
      " |-- state: string (nullable = true)\n",
      " |-- url: string (nullable = true)\n",
      "\n"
     ]
    }
   ],
   "source": [
    "# Print the Schema to have a lot at structure DataFrame\n",
    "metadata_df.printSchema()"
   ]
  },
  {
   "cell_type": "markdown",
   "metadata": {},
   "source": [
    "It seems there are few fields with struct type, in other words, nested data which can be any type of it, since a simple list, dictionary, dictionary with nested disctionaries even so.. let's leave it for latter. \n",
    "\n",
    "And it'd be nice to have a cleaner visualization for the nested columns.  I created a simple class in the info_spark_dataset library to only print column names in the style of points "
   ]
  },
  {
   "cell_type": "code",
   "execution_count": 7,
   "metadata": {},
   "outputs": [],
   "source": [
    "# from info_spark_dataset import InfoDataSet\n",
    "# info_data = InfoDataSet(metadata_df._jdf, metadata_df.sparkSession)"
   ]
  },
  {
   "cell_type": "markdown",
   "metadata": {},
   "source": [
    "Data Dictionary for metadata\n",
    "\n",
    "Columns:\n",
    "\t\n",
    "1. MISC: Nested column, for latter.\n",
    "2. address: \n",
    "3. avg_rating\n",
    "4. category\n",
    "5. description\n",
    "6. gmap_id\n",
    "7. hours\n",
    "8. latitude\n",
    "9. longitude\n",
    "10. name\n",
    "11. num_of_reviews\n",
    "12. price\n",
    "13. relative_results\n",
    "14. state\n",
    "15. url\n",
    "\n",
    "Since we are interested on only restaurants, let's begin filtering out what places are restaurants, this may reduce dataset.\n",
    "\n",
    "### Category"
   ]
  },
  {
   "cell_type": "code",
   "execution_count": 8,
   "metadata": {},
   "outputs": [
    {
     "name": "stdout",
     "output_type": "stream",
     "text": [
      "+--------------------------------------------------------------------------------------------------------------------------------------------------------------------------+\n",
      "|category                                                                                                                                                                  |\n",
      "+--------------------------------------------------------------------------------------------------------------------------------------------------------------------------+\n",
      "|[Pharmacy]                                                                                                                                                                |\n",
      "|[General store, ATM]                                                                                                                                                      |\n",
      "|[Pet groomer]                                                                                                                                                             |\n",
      "|[Vaporizer store]                                                                                                                                                         |\n",
      "|[Medical supply store]                                                                                                                                                    |\n",
      "|[Auto repair shop]                                                                                                                                                        |\n",
      "|[Methodist church]                                                                                                                                                        |\n",
      "|[Men's clothing store, Clothing store]                                                                                                                                    |\n",
      "|[Horse boarding stable]                                                                                                                                                   |\n",
      "|[Sandwich shop, Caterer]                                                                                                                                                  |\n",
      "|[Gun shop]                                                                                                                                                                |\n",
      "|[Cajun restaurant, Caterer, Restaurant]                                                                                                                                   |\n",
      "|[Deli]                                                                                                                                                                    |\n",
      "|[Car dealer, Hyundai dealer, Nissan dealer]                                                                                                                               |\n",
      "|[River]                                                                                                                                                                   |\n",
      "|[Tattoo and piercing shop]                                                                                                                                                |\n",
      "|[Plumber, Heating contractor]                                                                                                                                             |\n",
      "|[Mobile home park]                                                                                                                                                        |\n",
      "|[Computer support and services, Computer consultant, Computer security service, Computer service]                                                                         |\n",
      "|[Movie rental kiosk, DVD store, Movie rental store, Video game rental kiosk, Video game rental service, Video game store]                                                 |\n",
      "|[Restaurant]                                                                                                                                                              |\n",
      "|[Church]                                                                                                                                                                  |\n",
      "|[Pet boarding service, Dog day care center]                                                                                                                               |\n",
      "|[Portrait studio, Photographer]                                                                                                                                           |\n",
      "|[Pet boarding service, Dog trainer]                                                                                                                                       |\n",
      "|[Auto repair shop]                                                                                                                                                        |\n",
      "|[Insurance company, Auto insurance agency, Home insurance agency, Insurance agency, Life insurance agency, Motorcycle insurance agency, Renter's insurance agency]        |\n",
      "|[Corporate office]                                                                                                                                                        |\n",
      "|[Beauty salon, Hair salon, Nail salon]                                                                                                                                    |\n",
      "|[Elevator service]                                                                                                                                                        |\n",
      "|[Shopping mall]                                                                                                                                                           |\n",
      "|[Gas station]                                                                                                                                                             |\n",
      "|[Self-storage facility]                                                                                                                                                   |\n",
      "|[Non-profit organization, Environment renewable natural resources, Environmental organization, Environmental protection organization]                                     |\n",
      "|[Cigar shop, Tobacco shop]                                                                                                                                                |\n",
      "|[Boat tour agency, Canoe & kayak rental service]                                                                                                                          |\n",
      "|[Dollar store, Craft store, Discount store, Grocery store, Home goods store, Kitchen supply store, Party store, School supply store, Toy store, Variety store]            |\n",
      "|[Lodge]                                                                                                                                                                   |\n",
      "|[Corporate office]                                                                                                                                                        |\n",
      "|[Auto glass shop]                                                                                                                                                         |\n",
      "|[Bathroom remodeler, Contractor, Remodeler]                                                                                                                               |\n",
      "|[Cell phone store, Electronic parts supplier, Electronics store, Telephone company]                                                                                       |\n",
      "|[Inn]                                                                                                                                                                     |\n",
      "|[Tire shop, Brake shop, Car battery store, Oil change service, Wheel alignment service]                                                                                   |\n",
      "|[Dog day care center, Dog trainer, Pet groomer]                                                                                                                           |\n",
      "|[Apartment complex]                                                                                                                                                       |\n",
      "|[Church]                                                                                                                                                                  |\n",
      "|[Cabin rental agency, Hotel]                                                                                                                                              |\n",
      "|[Greek Orthodox church, Church, Tourist attraction]                                                                                                                       |\n",
      "|[Coffee shop]                                                                                                                                                             |\n",
      "|[Building materials supplier, Business to business service, Ready mix concrete supplier, Wholesaler]                                                                      |\n",
      "|[Park]                                                                                                                                                                    |\n",
      "|[Vacation home rental agency]                                                                                                                                             |\n",
      "|[Dessert shop]                                                                                                                                                            |\n",
      "|[Tanning salon]                                                                                                                                                           |\n",
      "|[Personal injury attorney, Criminal justice attorney, Attorney]                                                                                                           |\n",
      "|[Landscaper, Lawn sprinkler system contractor]                                                                                                                            |\n",
      "|[Lake]                                                                                                                                                                    |\n",
      "|[Beauty salon]                                                                                                                                                            |\n",
      "|[Truck repair shop, Trailer repair shop]                                                                                                                                  |\n",
      "|[Cell phone store, Cell phone accessory store, Telecommunications service provider]                                                                                       |\n",
      "|[Cafe, Bakery, Breakfast restaurant, Caterer, Coffee shop, Delivery service, Takeout Restaurant, Salad shop, Sandwich shop, Soup restaurant]                              |\n",
      "|[Baptist church]                                                                                                                                                          |\n",
      "|[Campground]                                                                                                                                                              |\n",
      "|[Office supply store, Computer store, Electronics store, Office equipment supplier, Office furniture store, Paper distributor, Print shop, School supply store]           |\n",
      "|[Walk-in clinic, Health consultant, Medical clinic, Medical office, Medical spa, Nutritionist, Pain management physician, Reproductive health clinic, Weight loss service]|\n",
      "|[Car dealer]                                                                                                                                                              |\n",
      "|[Self service car wash]                                                                                                                                                   |\n",
      "|[Tire shop, Auto repair shop, Oil change service, Towing service, Transmission shop]                                                                                      |\n",
      "|[Restaurant, Bistro, French restaurant]                                                                                                                                   |\n",
      "|[Dog day care center, Dog trainer]                                                                                                                                        |\n",
      "|[Insurance agency]                                                                                                                                                        |\n",
      "|[Satellite communication service]                                                                                                                                         |\n",
      "|[Italian grocery store]                                                                                                                                                   |\n",
      "|[Apartment building]                                                                                                                                                      |\n",
      "|[Gas station]                                                                                                                                                             |\n",
      "|[Baptist church, Christian church, Church]                                                                                                                                |\n",
      "|[Book store]                                                                                                                                                              |\n",
      "|[Hair salon, Barber shop, Beauty salon, Hairdresser]                                                                                                                      |\n",
      "|[Roofing contractor, Remodeler]                                                                                                                                           |\n",
      "|[Medical clinic]                                                                                                                                                          |\n",
      "|[Catholic church]                                                                                                                                                         |\n",
      "|[Pediatric dentist, Dental clinic, Dentist, Emergency dental service, Orthodontist]                                                                                       |\n",
      "|[Pizza delivery, Delivery Restaurant, Takeout Restaurant, Pizza restaurant, Pizza Takeout]                                                                                |\n",
      "|[Loan agency]                                                                                                                                                             |\n",
      "|[Veterinarian]                                                                                                                                                            |\n",
      "|[Bar, Night club]                                                                                                                                                         |\n",
      "|[Auditorium]                                                                                                                                                              |\n",
      "|[Public health department]                                                                                                                                                |\n",
      "|[Veterans organization]                                                                                                                                                   |\n",
      "|[Car rental agency]                                                                                                                                                       |\n",
      "|[Forensic consultant]                                                                                                                                                     |\n",
      "|[Veterinary care, Animal hospital, Hospital]                                                                                                                              |\n",
      "|[Bridal shop]                                                                                                                                                             |\n",
      "|[Catholic church, Church]                                                                                                                                                 |\n",
      "|[Automation company]                                                                                                                                                      |\n",
      "|[Shopping mall]                                                                                                                                                           |\n",
      "|[Waste management service, Demolition contractor]                                                                                                                         |\n",
      "|[Restaurant, Caterer, Coffee store, Takeout Restaurant, Salad shop, Sandwich shop, Soup shop]                                                                             |\n",
      "|[Visitor center]                                                                                                                                                          |\n",
      "+--------------------------------------------------------------------------------------------------------------------------------------------------------------------------+\n",
      "only showing top 100 rows\n",
      "\n"
     ]
    }
   ],
   "source": [
    "# Have a look at some rows on category\n",
    "metadata_df.select('category').show(100, truncate=False)"
   ]
  },
  {
   "cell_type": "markdown",
   "metadata": {},
   "source": [
    "There are multiple categories that are not necesary restaurants. There are many ways to approach this, but here, I will get for good to filter any rows's category that contains at least 1 word -\"Restaurant\"-\n",
    "\n",
    "To get this done:\n",
    "* Create an User Defined Functions:\n",
    "    * That flags the counting of any \"restaurant\" occurance\n",
    "* Create a new column with the prior counting of \"restaurant\" word\n",
    "* Filter out any row that flags more than 0 rows counting"
   ]
  },
  {
   "cell_type": "code",
   "execution_count": 9,
   "metadata": {},
   "outputs": [],
   "source": [
    "\n",
    "import pyspark.sql.functions as F\n",
    "from pyspark.sql.types import *\n",
    "\n",
    "\n",
    "def filter_category(target_cat, categories):\n",
    "    \"\"\"\n",
    "    Filter categories based on a target category.\n",
    "\n",
    "    This function takes a target category and a list of categories as input.\n",
    "    It counts the number of categories containing the target category (case-insensitive) within them.\n",
    "    \n",
    "    Parameters:\n",
    "    - target_cat (str): The target category to filter.\n",
    "    - categories (list of str): A list of categories to search within.\n",
    "    \n",
    "    Returns:\n",
    "    - int: The count of categories containing the target category (case-insensitive).\n",
    "\n",
    "    Example:\n",
    "    ```python\n",
    "    target_category = 'Restaurant'\n",
    "    categories = ['Fast Food Restaurant', 'Italian Restaurant', 'Café']\n",
    "    count = filter_category(target_category, categories)\n",
    "    print(count)  # Output: 2\n",
    "    ```\n",
    "    \"\"\"\n",
    "    # If categories is None, return 0\n",
    "    if categories is None:\n",
    "        return 0\n",
    "    # Count the number of categories containing the target category (case-insensitive)\n",
    "    return len([category for category in categories if target_cat.lower() in {cat.lower() for cat in category.split()}])\n",
    "\n",
    "\n",
    "# Define a User Defined Function (UDF) using the filter_category function\n",
    "udf_FilterCategory = F.udf(filter_category, IntegerType())\n",
    "\n",
    "# Apply the UDF to the DataFrame to create a new column 'cat_count_temp' containing category counts\n",
    "metadata_df = metadata_df.withColumn('cat_count_temp', udf_FilterCategory(F.lit('Restaurant'), metadata_df.category))\n",
    "# Filter the DataFrame to include only rows where 'cat_count_temp' is greater than 0\n",
    "output_dataframe = metadata_df.filter(metadata_df.cat_count_temp.cast('int') > 0)\n"
   ]
  },
  {
   "cell_type": "code",
   "execution_count": 10,
   "metadata": {},
   "outputs": [
    {
     "data": {
      "text/plain": [
       "212008"
      ]
     },
     "execution_count": 10,
     "metadata": {},
     "output_type": "execute_result"
    }
   ],
   "source": [
    "restaurants_metadata = metadata_df.filter(metadata_df.cat_count_temp.cast('int') > 0)\n",
    "restaurants_metadata.count()"
   ]
  },
  {
   "cell_type": "markdown",
   "metadata": {},
   "source": [
    "### Finally, our dataset containing only Restaurant as category."
   ]
  },
  {
   "cell_type": "code",
   "execution_count": 11,
   "metadata": {},
   "outputs": [],
   "source": [
    "restaurants_metadata = restaurants_metadata.drop(restaurants_metadata['cat_count_temp'])"
   ]
  },
  {
   "cell_type": "code",
   "execution_count": 12,
   "metadata": {},
   "outputs": [],
   "source": [
    "# restaurants_metadata.count(), len(restaurants_metadata.columns) --> (212008, 15)"
   ]
  },
  {
   "cell_type": "code",
   "execution_count": 13,
   "metadata": {},
   "outputs": [
    {
     "name": "stdout",
     "output_type": "stream",
     "text": [
      "+--------------------+--------------------+----------+--------------------+--------------------+--------------------+--------------------+------------------+------------------+--------------------+--------------+-----+--------------------+--------------------+--------------------+\n",
      "|                MISC|             address|avg_rating|            category|         description|             gmap_id|               hours|          latitude|         longitude|                name|num_of_reviews|price|    relative_results|               state|                 url|\n",
      "+--------------------+--------------------+----------+--------------------+--------------------+--------------------+--------------------+------------------+------------------+--------------------+--------------+-----+--------------------+--------------------+--------------------+\n",
      "|{[Wheelchair acce...|The Jambalaya Sho...|       4.0|[Cajun restaurant...|Casual eatery kno...|0x862722f48f2b47e...|[[Wednesday, 10:3...|        30.5015556|-90.48408169999999|The Jambalaya Shoppe|           248|    $|[0x862722fdf07aed...|   Open ⋅ Closes 8PM|https://www.googl...|\n",
      "|{[Wheelchair acce...|Sparks Public Hou...|       3.6|        [Restaurant]|                null|0x809939273fca924...|[[Wednesday, 3–9P...|        39.5812872|      -119.7426969| Sparks Public House|            18| null|                null|   Open ⋅ Closes 9PM|https://www.googl...|\n",
      "|{[Wheelchair acce...|Panera Bread, 200...|       4.2|[Cafe, Bakery, Br...|Counter-serve bak...|0x89b7b7b77cb3011...|[[Wednesday, 6AM–...|        38.9041036|       -77.0451231|        Panera Bread|           106|   $$|[0x89b7b7b9baf3a9...|   Open ⋅ Closes 8PM|https://www.googl...|\n",
      "|{[Wheelchair acce...|Rouge Restaurant,...|       4.7|[Restaurant, Bist...|Popular bistro br...|0x89e75c0234c3372...|[[Wednesday, Clos...|42.333667999999996|        -73.367892|    Rouge Restaurant|            98|   $$|[0x89e7436a32f4c3...|Closed ⋅ Opens 5P...|https://www.googl...|\n",
      "|{[Wheelchair acce...|Domino's Pizza, 3...|       3.0|[Pizza delivery, ...|Delivery/carryout...|0x86685f1530ba31a...|[[Wednesday, 10:3...|        27.7956237|-97.43325039999999|      Domino's Pizza|            56|    $|                null|  Open ⋅ Closes 12AM|https://www.googl...|\n",
      "|{null, null, [Bar...|Cosi, 1 Saarinen ...|       3.4|[Restaurant, Cate...|Counter-serve cha...|0x89b6474023944e1...|[[Wednesday, 6:30...|        38.9486421|       -77.4418494|                Cosi|            18|    $|[0x89b64740174eb0...|  Permanently closed|https://www.googl...|\n",
      "|{[Wheelchair acce...|Humbertos Mexican...|       4.3|[Mexican restaurant]|                null|0x80ce3f4292b2602...|[[Wednesday, 8AM–...|         35.025907|      -114.5970284|Humbertos Mexican...|           153| null|[0x80ce3f3fac2541...|   Open ⋅ Closes 9PM|https://www.googl...|\n",
      "|{[Wheelchair acce...|Subway, 782 N New...|       3.7|[Sandwich shop, C...|Casual counter-se...|0x87df32a3aa1b526...|[[Wednesday, 10AM...|        38.6699272|       -90.4427024|              Subway|            84|    $|[0x87df32bdc6621b...|   Open ⋅ Closes 8PM|https://www.googl...|\n",
      "|{[Wheelchair acce...|Subway, 13391 Oli...|       3.8|[Sandwich shop, C...|Casual counter-se...|0x87df2ce50ca8577...|[[Wednesday, 10:3...|        38.6812046|-90.49615329999999|              Subway|            38|    $|[0x87df2ceefa96db...|   Open ⋅ Closes 8PM|https://www.googl...|\n",
      "|{null, null, [Goo...|Jojo’s Juice Bar ...|       4.8|[Vegetarian resta...|                null|0x89c26571ba0d434...|[[Wednesday, 10AM...|         40.657945|        -73.694451|Jojo’s Juice Bar ...|           148| null|[0x89c26461c62790...|Closes soon ⋅ 6:3...|https://www.googl...|\n",
      "|{[Wheelchair acce...|The Nourish Spot,...|       4.7|[Salad shop, Heal...|                null|0x89c261287fc60bd...|[[Wednesday, 9:30...|        40.6980727|        -73.792034|    The Nourish Spot|           138|    $|[0x89c260a27538ef...|Closed ⋅ Opens 9:...|https://www.googl...|\n",
      "|{null, null, [Goo...|New Hunan Wok, 14...|       3.6|[Chinese restaura...|Chinese take-out ...|0x89c267214876e58...|[[Wednesday, 11AM...|          40.67398|       -73.7993578|       New Hunan Wok|            68|    $|[0x89c26721301d83...|  Open ⋅ Closes 11PM|https://www.googl...|\n",
      "|{[Wheelchair acce...|SoBol, 35-04 Ditm...|       4.1|[Açaí shop, Cafe,...|                null|0x89c25fa63f277c7...|[[Wednesday, 8AM–...|        40.7745688|       -73.9088565|               SoBol|            88|   $$|[0x89c25fe48f8ec3...|   Open ⋅ Closes 8PM|https://www.googl...|\n",
      "|{[Wheelchair acce...|KFC, 8560 Greenwo...|       2.0|[Chicken restaura...|                null|0x8636dbdcaa4a1bf...|[[Wednesday, 10AM...|        32.4459437|-93.94924189999999|                 KFC|             8| null|                null|  Open ⋅ Closes 10PM|https://www.googl...|\n",
      "|{null, null, null...|Domino's Pizza, 2...|       3.8|[Pizza delivery, ...|Delivery/carryout...|0x88dd08d9063a7af...|[[Wednesday, 10AM...|        27.8987564|-81.58992649999999|      Domino's Pizza|           147|    $|[0x88dd08db85411a...|  Open ⋅ Closes 12AM|https://www.googl...|\n",
      "|{[Wheelchair acce...|Produce Depot, 81...|       4.7|[Produce market, ...|                null|0x8811e3928908e27...|[[Wednesday, 9AM–...|        41.4712726|       -87.4708053|       Produce Depot|           243| null|[0x8811ef6a451423...|   Open ⋅ Closes 7PM|https://www.googl...|\n",
      "|{[Wheelchair acce...|Biscuitville, 306...|       4.2|[Breakfast restau...|Family-friendly d...|0x88541ddc48307cf...|[[Wednesday, 5:30...|35.372318199999995|       -80.7337493|        Biscuitville|           154|    $|                null|Closed ⋅ Opens 5:...|https://www.googl...|\n",
      "|{[Wheelchair acce...|Starbucks, 6378 C...|       3.9|[Coffee shop, Bre...|                null|0x881353691b001c2...|                null|39.947892499999995|-86.35092089999999|           Starbucks|           108|   $$|                null|                null|https://www.googl...|\n",
      "|{[Wheelchair acce...|HI Thai Food Truc...|       4.7|   [Thai restaurant]|Hawaiian-accented...|0x7954d36a694836c...|[[Wednesday, 11:3...|20.889177999999998|      -156.5025829|  HI Thai Food Truck|           115| null|[0x7954d2b92e2a1f...|   Open ⋅ Closes 6PM|https://www.googl...|\n",
      "|{[Wheelchair acce...|Subway, 1501 Pitk...|       4.0|[Sandwich shop, C...|Casual counter-se...|0x89c25f0bb748549...|[[Wednesday, 9AM–...|        40.6687946|       -73.9176239|              Subway|            58|    $|[0x89c25a4ed4531b...|  Open ⋅ Closes 10PM|https://www.googl...|\n",
      "+--------------------+--------------------+----------+--------------------+--------------------+--------------------+--------------------+------------------+------------------+--------------------+--------------+-----+--------------------+--------------------+--------------------+\n",
      "only showing top 20 rows\n",
      "\n"
     ]
    }
   ],
   "source": [
    "restaurants_metadata.show()"
   ]
  },
  {
   "cell_type": "code",
   "execution_count": 14,
   "metadata": {},
   "outputs": [],
   "source": [
    "google_ids = restaurants_metadata.select('gmap_id')"
   ]
  },
  {
   "cell_type": "code",
   "execution_count": 15,
   "metadata": {},
   "outputs": [],
   "source": [
    "google_ids = google_ids.withColumnRenamed('gmap_id','gmap_id_1')"
   ]
  },
  {
   "cell_type": "markdown",
   "metadata": {},
   "source": [
    "### Extracting reviews from Google Json Files"
   ]
  },
  {
   "cell_type": "code",
   "execution_count": 16,
   "metadata": {},
   "outputs": [],
   "source": [
    "# First read all file from the data folder in the google_review_restaurants.\n",
    "# Remember, PySpark supports global file paths to leaveare wild cards in directories\n",
    "# Wherever a .json file is.\n",
    "google_df = spark.read.json(\"data/google/*/*/reviews-estados/review-*/*.json\")"
   ]
  },
  {
   "cell_type": "code",
   "execution_count": 17,
   "metadata": {},
   "outputs": [
    {
     "data": {
      "text/plain": [
       "(89946359,\n",
       " ['gmap_id', 'name', 'pics', 'rating', 'resp', 'text', 'time', 'user_id'])"
      ]
     },
     "execution_count": 17,
     "metadata": {},
     "output_type": "execute_result"
    }
   ],
   "source": [
    "google_df.count(), google_df.columns"
   ]
  },
  {
   "cell_type": "code",
   "execution_count": 18,
   "metadata": {},
   "outputs": [
    {
     "data": {
      "text/plain": [
       "[('gmap_id', 'string'),\n",
       " ('name', 'string'),\n",
       " ('pics', 'array<struct<url:array<string>>>'),\n",
       " ('rating', 'bigint'),\n",
       " ('resp', 'struct<text:string,time:bigint>'),\n",
       " ('text', 'string'),\n",
       " ('time', 'bigint'),\n",
       " ('user_id', 'string')]"
      ]
     },
     "execution_count": 18,
     "metadata": {},
     "output_type": "execute_result"
    }
   ],
   "source": [
    "google_df.dtypes"
   ]
  },
  {
   "cell_type": "markdown",
   "metadata": {},
   "source": [
    "In order to filter out all reviews that are related restaurantes, we are going to use the last restaurants data frame, and use the gmap_id field to join it to the reviews so by right joining will allow to get only all those rows in the restaurante dataframe."
   ]
  },
  {
   "cell_type": "code",
   "execution_count": 135,
   "metadata": {},
   "outputs": [],
   "source": [
    "# For a beter memory usage, we can broadcast the smaller dataframe so all resourses will concentrate to join on the fields values\n",
    "from pyspark.sql.functions import broadcast\n",
    "\n",
    "restaurant_reviews = google_df.join(\n",
    "    # Broadcast the smaller dataframe\n",
    "    broadcast(google_ids), \n",
    "    # Join on gmap_id \n",
    "    google_df['gmap_id'] == google_ids['gmap_id_1'], \n",
    "    # To the right -google_ids datafrane-\n",
    "    how='right')"
   ]
  },
  {
   "cell_type": "code",
   "execution_count": 136,
   "metadata": {},
   "outputs": [],
   "source": [
    "restaurant_reviews = restaurant_reviews.drop(restaurant_reviews['pics'])\n",
    "restaurant_reviews = restaurant_reviews.drop(restaurant_reviews['resp'])\n",
    "restaurant_reviews = restaurant_reviews.drop(restaurant_reviews['gmap_id_1'])\n"
   ]
  },
  {
   "cell_type": "code",
   "execution_count": 137,
   "metadata": {},
   "outputs": [],
   "source": [
    "# restaurant_reviews.show(20)"
   ]
  },
  {
   "cell_type": "code",
   "execution_count": 138,
   "metadata": {},
   "outputs": [],
   "source": [
    "# Filtering out nulls on texts column\n",
    "text_filter = ~restaurant_reviews['text'].isNull()\n",
    "restaurant_reviews = restaurant_reviews.where(text_filter)"
   ]
  },
  {
   "cell_type": "code",
   "execution_count": 139,
   "metadata": {},
   "outputs": [],
   "source": [
    "# restaurant_reviews.count()\n",
    "# this counting should compute 7093988"
   ]
  },
  {
   "cell_type": "markdown",
   "metadata": {},
   "source": [
    "LEt's get rid of dulicates so we can get a clean table of unnecesary rows"
   ]
  },
  {
   "cell_type": "code",
   "execution_count": 140,
   "metadata": {},
   "outputs": [],
   "source": [
    "restaurant_reviews = restaurant_reviews.drop_duplicates()\n",
    "# restaurant_reviews.count()"
   ]
  },
  {
   "cell_type": "markdown",
   "metadata": {},
   "source": [
    "Let's convert dates field, from unix date to date format. It will be used for partition."
   ]
  },
  {
   "cell_type": "code",
   "execution_count": 141,
   "metadata": {},
   "outputs": [],
   "source": [
    "from pyspark.sql.functions import from_unixtime, year\n",
    "\n",
    "restaurant_reviews = restaurant_reviews.withColumn('date', from_unixtime(restaurant_reviews.time / 1000))\n",
    "restaurant_reviews = restaurant_reviews.drop(restaurant_reviews['time'])"
   ]
  },
  {
   "cell_type": "code",
   "execution_count": 142,
   "metadata": {},
   "outputs": [],
   "source": [
    "restaurant_reviews = restaurant_reviews.withColumn('year', year(\"date\"))"
   ]
  },
  {
   "cell_type": "markdown",
   "metadata": {},
   "source": [
    "Treating `\\n` and `,` as plain text by adding an extra coma to text reviews will ensure that those two characters are going to be taken as text and not as delimeters"
   ]
  },
  {
   "cell_type": "code",
   "execution_count": 143,
   "metadata": {},
   "outputs": [],
   "source": [
    "from pyspark.sql.functions import col, regexp_replace, regexp_extract, when\n",
    "\n",
    "# Replace double quotes with two quoptes to escape them\n",
    "restaurant_reviews = restaurant_reviews.withColumn('text', regexp_replace(col(\"text\"), '\"', '\"\"'))\n",
    "\n",
    "# Replace the '\\n' with period with space in forward\n",
    "restaurant_reviews = restaurant_reviews.withColumn('text', regexp_replace(col('text'), '\\n', '. '))\n",
    "\n",
    "# Enclose text in double quotes\n",
    "restaurant_reviews = restaurant_reviews.withColumn('text', col('text').cast('string'))\n",
    "\n",
    "# rename column\n",
    "restaurant_reviews = restaurant_reviews.withColumnRenamed('text', 'reviews')"
   ]
  },
  {
   "cell_type": "code",
   "execution_count": 144,
   "metadata": {},
   "outputs": [],
   "source": [
    "# Define a resgular expression to extract text following \"(translated by Google)\"\n",
    "pattern = r'\\(Translated by Google\\)(.*)?\\(Original\\)'\n",
    "\n",
    "# Extract text\n",
    "restaurant_reviews = restaurant_reviews.withColumn('reviews', \n",
    "                                                   when(col(\"reviews\").startswith('(Translated by Google)'), regexp_extract(\"reviews\", pattern, 1))\n",
    "                                                   .otherwise(col(\"reviews\")))"
   ]
  },
  {
   "cell_type": "code",
   "execution_count": 145,
   "metadata": {},
   "outputs": [],
   "source": [
    "## Write csv files partitioned by year\n",
    "restaurant_reviews \\\n",
    "    .coalesce(1) \\\n",
    "    .write \\\n",
    "    .partitionBy(\"year\") \\\n",
    "    .option(\"header\", \"true\") \\\n",
    "    .option(\"escape\", \"\\\"\") \\\n",
    "    .mode(\"overwrite\") \\\n",
    "    .csv(\"data/reviews_data\")"
   ]
  },
  {
   "cell_type": "markdown",
   "metadata": {},
   "source": [
    "## Trying out LLMs for labeling reviews"
   ]
  },
  {
   "cell_type": "code",
   "execution_count": 146,
   "metadata": {},
   "outputs": [],
   "source": [
    "df = pd.read_csv(\"data\\\\reviews_data\\year=2017\\part-00000-d16ca764-2ee1-40e2-a290-4d950dfa6152.c000.csv\")"
   ]
  },
  {
   "cell_type": "code",
   "execution_count": 147,
   "metadata": {},
   "outputs": [
    {
     "data": {
      "text/html": [
       "<div>\n",
       "<style scoped>\n",
       "    .dataframe tbody tr th:only-of-type {\n",
       "        vertical-align: middle;\n",
       "    }\n",
       "\n",
       "    .dataframe tbody tr th {\n",
       "        vertical-align: top;\n",
       "    }\n",
       "\n",
       "    .dataframe thead th {\n",
       "        text-align: right;\n",
       "    }\n",
       "</style>\n",
       "<table border=\"1\" class=\"dataframe\">\n",
       "  <thead>\n",
       "    <tr style=\"text-align: right;\">\n",
       "      <th></th>\n",
       "      <th>gmap_id</th>\n",
       "      <th>name</th>\n",
       "      <th>rating</th>\n",
       "      <th>reviews</th>\n",
       "      <th>user_id</th>\n",
       "      <th>date</th>\n",
       "    </tr>\n",
       "  </thead>\n",
       "  <tbody>\n",
       "    <tr>\n",
       "      <th>0</th>\n",
       "      <td>0x875499753a7ad067:0x6a377b89b61fd24f</td>\n",
       "      <td>Spencer Hanks</td>\n",
       "      <td>4</td>\n",
       "      <td>I am a fan, very friendly folks, small town fe...</td>\n",
       "      <td>105772155185063591657</td>\n",
       "      <td>2017-04-13 19:17:09</td>\n",
       "    </tr>\n",
       "    <tr>\n",
       "      <th>1</th>\n",
       "      <td>0x87ba516f42fd107b:0x8b7bbc86bfaadecb</td>\n",
       "      <td>Lucinda Pickell</td>\n",
       "      <td>5</td>\n",
       "      <td>Great food and people.  Wonderful staff.</td>\n",
       "      <td>115549324567733574577</td>\n",
       "      <td>2017-02-17 21:03:30</td>\n",
       "    </tr>\n",
       "    <tr>\n",
       "      <th>2</th>\n",
       "      <td>0x87528880fabd2f47:0x373f5ae581ba6518</td>\n",
       "      <td>Cory Vore</td>\n",
       "      <td>5</td>\n",
       "      <td>Best gluten free ever. So sad they're gone now.</td>\n",
       "      <td>116697624649953496211</td>\n",
       "      <td>2017-08-05 01:58:07</td>\n",
       "    </tr>\n",
       "    <tr>\n",
       "      <th>3</th>\n",
       "      <td>0x879571a7455a555f:0x30a0675b1aa64d29</td>\n",
       "      <td>Lucinda Rieschick</td>\n",
       "      <td>5</td>\n",
       "      <td>Wonderful. Chicken day today.</td>\n",
       "      <td>117867467651010443439</td>\n",
       "      <td>2017-08-31 10:36:14</td>\n",
       "    </tr>\n",
       "    <tr>\n",
       "      <th>4</th>\n",
       "      <td>0x87547de0ed23364d:0x5b25d19bde61e5d</td>\n",
       "      <td>Michael Salisbury</td>\n",
       "      <td>4</td>\n",
       "      <td>Food was good and there are chairs an DC boths!</td>\n",
       "      <td>104357590880035433069</td>\n",
       "      <td>2017-03-18 17:27:04</td>\n",
       "    </tr>\n",
       "    <tr>\n",
       "      <th>...</th>\n",
       "      <td>...</td>\n",
       "      <td>...</td>\n",
       "      <td>...</td>\n",
       "      <td>...</td>\n",
       "      <td>...</td>\n",
       "      <td>...</td>\n",
       "    </tr>\n",
       "    <tr>\n",
       "      <th>853317</th>\n",
       "      <td>0x80db7e77fc4e4cc7:0x78d4b2dc41facbcb</td>\n",
       "      <td>Lucille Kagehokousha</td>\n",
       "      <td>5</td>\n",
       "      <td>Fresh Udon with clams, hand rolled tuna, great...</td>\n",
       "      <td>112326634882347760965</td>\n",
       "      <td>2017-09-05 22:28:08</td>\n",
       "    </tr>\n",
       "    <tr>\n",
       "      <th>853318</th>\n",
       "      <td>0x80c8db302c15da39:0xaefa98832a6a0510</td>\n",
       "      <td>Lucinda Brinks</td>\n",
       "      <td>4</td>\n",
       "      <td>Great salsa bar</td>\n",
       "      <td>106063786723215410976</td>\n",
       "      <td>2017-03-09 21:46:25</td>\n",
       "    </tr>\n",
       "    <tr>\n",
       "      <th>853319</th>\n",
       "      <td>0x89b7c66ca8c285f1:0x2f2ca55983a6220a</td>\n",
       "      <td>Lucinda Escobar</td>\n",
       "      <td>5</td>\n",
       "      <td>Friendly staff. Latin food. .</td>\n",
       "      <td>113374007153001499740</td>\n",
       "      <td>2017-09-25 18:55:04</td>\n",
       "    </tr>\n",
       "    <tr>\n",
       "      <th>853320</th>\n",
       "      <td>0x89c6c88511ad8cd9:0xbbfd036ebe4061c6</td>\n",
       "      <td>Lucinda Megill Legendre</td>\n",
       "      <td>5</td>\n",
       "      <td>So Delicious. Great drinks. Fun atmosphere. Ch...</td>\n",
       "      <td>105689843109706085917</td>\n",
       "      <td>2017-04-09 18:20:37</td>\n",
       "    </tr>\n",
       "    <tr>\n",
       "      <th>853321</th>\n",
       "      <td>0x89de08cd074ec187:0x96e5e9a007c9cf90</td>\n",
       "      <td>Lucinda Morrill</td>\n",
       "      <td>5</td>\n",
       "      <td>The food is wonderful and we are always very p...</td>\n",
       "      <td>105206416344851526909</td>\n",
       "      <td>2017-07-07 18:25:00</td>\n",
       "    </tr>\n",
       "  </tbody>\n",
       "</table>\n",
       "<p>853322 rows × 6 columns</p>\n",
       "</div>"
      ],
      "text/plain": [
       "                                      gmap_id                     name  \\\n",
       "0       0x875499753a7ad067:0x6a377b89b61fd24f            Spencer Hanks   \n",
       "1       0x87ba516f42fd107b:0x8b7bbc86bfaadecb          Lucinda Pickell   \n",
       "2       0x87528880fabd2f47:0x373f5ae581ba6518                Cory Vore   \n",
       "3       0x879571a7455a555f:0x30a0675b1aa64d29        Lucinda Rieschick   \n",
       "4        0x87547de0ed23364d:0x5b25d19bde61e5d        Michael Salisbury   \n",
       "...                                       ...                      ...   \n",
       "853317  0x80db7e77fc4e4cc7:0x78d4b2dc41facbcb     Lucille Kagehokousha   \n",
       "853318  0x80c8db302c15da39:0xaefa98832a6a0510           Lucinda Brinks   \n",
       "853319  0x89b7c66ca8c285f1:0x2f2ca55983a6220a          Lucinda Escobar   \n",
       "853320  0x89c6c88511ad8cd9:0xbbfd036ebe4061c6  Lucinda Megill Legendre   \n",
       "853321  0x89de08cd074ec187:0x96e5e9a007c9cf90          Lucinda Morrill   \n",
       "\n",
       "        rating                                            reviews  \\\n",
       "0            4  I am a fan, very friendly folks, small town fe...   \n",
       "1            5           Great food and people.  Wonderful staff.   \n",
       "2            5    Best gluten free ever. So sad they're gone now.   \n",
       "3            5                      Wonderful. Chicken day today.   \n",
       "4            4    Food was good and there are chairs an DC boths!   \n",
       "...        ...                                                ...   \n",
       "853317       5  Fresh Udon with clams, hand rolled tuna, great...   \n",
       "853318       4                                    Great salsa bar   \n",
       "853319       5                      Friendly staff. Latin food. .   \n",
       "853320       5  So Delicious. Great drinks. Fun atmosphere. Ch...   \n",
       "853321       5  The food is wonderful and we are always very p...   \n",
       "\n",
       "                      user_id                 date  \n",
       "0       105772155185063591657  2017-04-13 19:17:09  \n",
       "1       115549324567733574577  2017-02-17 21:03:30  \n",
       "2       116697624649953496211  2017-08-05 01:58:07  \n",
       "3       117867467651010443439  2017-08-31 10:36:14  \n",
       "4       104357590880035433069  2017-03-18 17:27:04  \n",
       "...                       ...                  ...  \n",
       "853317  112326634882347760965  2017-09-05 22:28:08  \n",
       "853318  106063786723215410976  2017-03-09 21:46:25  \n",
       "853319  113374007153001499740  2017-09-25 18:55:04  \n",
       "853320  105689843109706085917  2017-04-09 18:20:37  \n",
       "853321  105206416344851526909  2017-07-07 18:25:00  \n",
       "\n",
       "[853322 rows x 6 columns]"
      ]
     },
     "execution_count": 147,
     "metadata": {},
     "output_type": "execute_result"
    }
   ],
   "source": [
    "df"
   ]
  },
  {
   "cell_type": "code",
   "execution_count": null,
   "metadata": {},
   "outputs": [],
   "source": []
  }
 ],
 "metadata": {
  "kernelspec": {
   "display_name": ".restaurant_reviews_env",
   "language": "python",
   "name": "python3"
  },
  "language_info": {
   "codemirror_mode": {
    "name": "ipython",
    "version": 3
   },
   "file_extension": ".py",
   "mimetype": "text/x-python",
   "name": "python",
   "nbconvert_exporter": "python",
   "pygments_lexer": "ipython3",
   "version": "3.10.11"
  }
 },
 "nbformat": 4,
 "nbformat_minor": 2
}
