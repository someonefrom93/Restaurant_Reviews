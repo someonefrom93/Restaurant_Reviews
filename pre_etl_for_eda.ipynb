{
 "cells": [
  {
   "cell_type": "code",
   "execution_count": 19,
   "metadata": {},
   "outputs": [
    {
     "name": "stdout",
     "output_type": "stream",
     "text": [
      "Cuda ststus: True\n",
      "Divices available: 1\n",
      "Device name: NVIDIA GeForce GTX 1650\n"
     ]
    }
   ],
   "source": [
    "import pandas as pd\n",
    "import numpy as np\n",
    "import matplotlib.pyplot as plt\n",
    "import pyarrow\n",
    "\n",
    "import torch\n",
    "\n",
    "print('Cuda ststus: %s' % str(torch.cuda.is_available()))\n",
    "print('Divices available: %d' % torch.cuda.device_count())\n",
    "print('Device name: %s' % torch.cuda.get_device_name())"
   ]
  },
  {
   "cell_type": "markdown",
   "metadata": {},
   "source": [
    "### Spark Session"
   ]
  },
  {
   "cell_type": "code",
   "execution_count": 12,
   "metadata": {},
   "outputs": [
    {
     "data": {
      "text/html": [
       "\n",
       "            <div>\n",
       "                <p><b>SparkSession - in-memory</b></p>\n",
       "                \n",
       "        <div>\n",
       "            <p><b>SparkContext</b></p>\n",
       "\n",
       "            <p><a href=\"http://DESKTOP-U3AQAUL.mshome.net:4041\">Spark UI</a></p>\n",
       "\n",
       "            <dl>\n",
       "              <dt>Version</dt>\n",
       "                <dd><code>v3.3.3</code></dd>\n",
       "              <dt>Master</dt>\n",
       "                <dd><code>local[*]</code></dd>\n",
       "              <dt>AppName</dt>\n",
       "                <dd><code>Reviews Session</code></dd>\n",
       "            </dl>\n",
       "        </div>\n",
       "        \n",
       "            </div>\n",
       "        "
      ],
      "text/plain": [
       "<pyspark.sql.session.SparkSession at 0x2168d406ce0>"
      ]
     },
     "execution_count": 12,
     "metadata": {},
     "output_type": "execute_result"
    }
   ],
   "source": [
    "import findspark\n",
    "findspark.init('C:\\spark')\n",
    "\n",
    "from pyspark.sql import SparkSession\n",
    "\n",
    "spark = (SparkSession.builder\n",
    "         .appName('Reviews Session')\n",
    "         .config('spark.executor.memory', '8g')\n",
    "         .config('spark.executor.cores', '2')\n",
    "         .config('spark.driver.memory', '4g')\n",
    "         .getOrCreate())\n",
    "\n",
    "spark"
   ]
  },
  {
   "cell_type": "markdown",
   "metadata": {},
   "source": [
    "### Getting unzipped files from other file path"
   ]
  },
  {
   "cell_type": "code",
   "execution_count": 10,
   "metadata": {},
   "outputs": [],
   "source": [
    "import os\n",
    "# import zipfile\n",
    "\n",
    "# def unzip_folders(input_directory, output_directory):\n",
    "#     # Iterate over each file in the input directory\n",
    "#     for root, dirs, files in os.walk(input_directory):\n",
    "#         for file in files:\n",
    "#             file_path = os.path.join(root, file)\n",
    "\n",
    "#             # Check if the file is a zip file\n",
    "#             if file.endswith(\".zip\"):\n",
    "#                 # Create a directory to unzip the contents\n",
    "#                 output_folder = os.path.join(output_directory, os.path.splitext(file)[0])\n",
    "#                 os.makedirs(output_folder, exist_ok=True)\n",
    "\n",
    "#                 # Unzip the file\n",
    "#                 with zipfile.ZipFile(file_path, 'r') as zip_ref:\n",
    "#                     zip_ref.extractall(output_folder)\n",
    "\n",
    "# # Example usage:\n",
    "\n",
    "\n",
    "\n",
    "# input_directory = r\"C:\\Users\\jdieg\\Desktop\\henry\\proyectos\\FINAL\\data\\google_maps\"\n",
    "# output_directory = r\"C:\\Users\\jdieg\\Desktop\\data_camp\\projects\\restaurant_reviews\\data\\google\"\n",
    "\n",
    "# unzip_folders(input_directory, output_directory)\n"
   ]
  },
  {
   "cell_type": "markdown",
   "metadata": {},
   "source": [
    "### Have a look at Data Files.\n",
    "On:\n",
    "* metadata-sitios (json file)\n",
    "* reviews (json file)\n",
    "\n",
    "To get fields names, kind of data, and so on.."
   ]
  },
  {
   "cell_type": "markdown",
   "metadata": {},
   "source": [
    "#### metadata-sitios (json file)"
   ]
  },
  {
   "cell_type": "code",
   "execution_count": 38,
   "metadata": {},
   "outputs": [],
   "source": [
    "# Multi Loading json files for metadata\n",
    "metadata_df = spark.read.json(\"data/google/*00[2-3]/*/metadata*/*.json\")"
   ]
  },
  {
   "cell_type": "code",
   "execution_count": 39,
   "metadata": {},
   "outputs": [
    {
     "name": "stdout",
     "output_type": "stream",
     "text": [
      "root\n",
      " |-- MISC: struct (nullable = true)\n",
      " |    |-- Accessibility: array (nullable = true)\n",
      " |    |    |-- element: string (containsNull = true)\n",
      " |    |-- Activities: array (nullable = true)\n",
      " |    |    |-- element: string (containsNull = true)\n",
      " |    |-- Amenities: array (nullable = true)\n",
      " |    |    |-- element: string (containsNull = true)\n",
      " |    |-- Atmosphere: array (nullable = true)\n",
      " |    |    |-- element: string (containsNull = true)\n",
      " |    |-- Crowd: array (nullable = true)\n",
      " |    |    |-- element: string (containsNull = true)\n",
      " |    |-- Dining options: array (nullable = true)\n",
      " |    |    |-- element: string (containsNull = true)\n",
      " |    |-- From the business: array (nullable = true)\n",
      " |    |    |-- element: string (containsNull = true)\n",
      " |    |-- Getting here: array (nullable = true)\n",
      " |    |    |-- element: string (containsNull = true)\n",
      " |    |-- Health & safety: array (nullable = true)\n",
      " |    |    |-- element: string (containsNull = true)\n",
      " |    |-- Health and safety: array (nullable = true)\n",
      " |    |    |-- element: string (containsNull = true)\n",
      " |    |-- Highlights: array (nullable = true)\n",
      " |    |    |-- element: string (containsNull = true)\n",
      " |    |-- Lodging options: array (nullable = true)\n",
      " |    |    |-- element: string (containsNull = true)\n",
      " |    |-- Offerings: array (nullable = true)\n",
      " |    |    |-- element: string (containsNull = true)\n",
      " |    |-- Payments: array (nullable = true)\n",
      " |    |    |-- element: string (containsNull = true)\n",
      " |    |-- Planning: array (nullable = true)\n",
      " |    |    |-- element: string (containsNull = true)\n",
      " |    |-- Popular for: array (nullable = true)\n",
      " |    |    |-- element: string (containsNull = true)\n",
      " |    |-- Recycling: array (nullable = true)\n",
      " |    |    |-- element: string (containsNull = true)\n",
      " |    |-- Service options: array (nullable = true)\n",
      " |    |    |-- element: string (containsNull = true)\n",
      " |-- address: string (nullable = true)\n",
      " |-- avg_rating: double (nullable = true)\n",
      " |-- category: array (nullable = true)\n",
      " |    |-- element: string (containsNull = true)\n",
      " |-- description: string (nullable = true)\n",
      " |-- gmap_id: string (nullable = true)\n",
      " |-- hours: array (nullable = true)\n",
      " |    |-- element: array (containsNull = true)\n",
      " |    |    |-- element: string (containsNull = true)\n",
      " |-- latitude: double (nullable = true)\n",
      " |-- longitude: double (nullable = true)\n",
      " |-- name: string (nullable = true)\n",
      " |-- num_of_reviews: long (nullable = true)\n",
      " |-- price: string (nullable = true)\n",
      " |-- relative_results: array (nullable = true)\n",
      " |    |-- element: string (containsNull = true)\n",
      " |-- state: string (nullable = true)\n",
      " |-- url: string (nullable = true)\n",
      "\n"
     ]
    }
   ],
   "source": [
    "# Print the Schema to have a loot at structure DataFrame\n",
    "metadata_df.printSchema()"
   ]
  },
  {
   "cell_type": "code",
   "execution_count": 40,
   "metadata": {},
   "outputs": [
    {
     "name": "stdout",
     "output_type": "stream",
     "text": [
      "['MISC', 'address', 'avg_rating', 'category', 'description', 'gmap_id', 'hours', 'latitude', 'longitude', 'name', 'num_of_reviews', 'price', 'relative_results', 'state', 'url']\n",
      "There are 3025011 rows at metadata_df\n"
     ]
    }
   ],
   "source": [
    "# Columns and rows\n",
    "print(metadata_df.columns)\n",
    "print('There are %d rows at metadata_df' % metadata_df.count())"
   ]
  },
  {
   "cell_type": "code",
   "execution_count": 42,
   "metadata": {},
   "outputs": [
    {
     "name": "stdout",
     "output_type": "stream",
     "text": [
      "+------------------------------------------------------------------------------------------------------------------------------------------------------------------------------------------------------------------------------------------------------------------------------------------------------------------------------------------------------------------------------------------------------------------------------------------------------------------------------------------------------------------------------------------------------------------------------------------------------------------------+\n",
      "|MISC                                                                                                                                                                                                                                                                                                                                                                                                                                                                                                                                                                                                                    |\n",
      "+------------------------------------------------------------------------------------------------------------------------------------------------------------------------------------------------------------------------------------------------------------------------------------------------------------------------------------------------------------------------------------------------------------------------------------------------------------------------------------------------------------------------------------------------------------------------------------------------------------------------+\n",
      "|{[Wheelchair accessible entrance], null, null, null, null, null, null, null, [Mask required, Staff required to disinfect surfaces between visits], null, null, null, null, null, [Quick visit], null, null, [In-store shopping, Same-day delivery]}                                                                                                                                                                                                                                                                                                                                                                     |\n",
      "|{[Wheelchair accessible entrance], null, null, null, null, null, null, null, null, null, null, null, null, null, [Quick visit], null, null, [In-store shopping, Delivery]}                                                                                                                                                                                                                                                                                                                                                                                                                                              |\n",
      "|null                                                                                                                                                                                                                                                                                                                                                                                                                                                                                                                                                                                                                    |\n",
      "|null                                                                                                                                                                                                                                                                                                                                                                                                                                                                                                                                                                                                                    |\n",
      "|{[Wheelchair accessible entrance], null, null, null, null, null, null, null, null, null, null, null, null, [Debit cards, Credit cards], null, null, null, null}                                                                                                                                                                                                                                                                                                                                                                                                                                                         |\n",
      "|{null, null, [Mechanic], null, null, null, null, null, null, null, null, null, [Oil change], null, null, null, null, null}                                                                                                                                                                                                                                                                                                                                                                                                                                                                                              |\n",
      "|{[Wheelchair accessible entrance], null, null, null, null, null, null, null, null, null, null, null, null, null, null, null, null, null}                                                                                                                                                                                                                                                                                                                                                                                                                                                                                |\n",
      "|{[Wheelchair accessible entrance], null, null, null, null, null, null, null, [Mask required, Staff wear masks], null, null, null, null, null, [Quick visit], null, null, [Delivery, In-store shopping]}                                                                                                                                                                                                                                                                                                                                                                                                                 |\n",
      "|null                                                                                                                                                                                                                                                                                                                                                                                                                                                                                                                                                                                                                    |\n",
      "|{[Wheelchair accessible entrance, Wheelchair accessible parking lot, Wheelchair accessible restroom, Wheelchair accessible seating], null, [Good for kids, High chairs, Restroom], [Casual], [College students, Family-friendly, Groups, Tourists], [Lunch, Dinner, Catering, Dessert, Seating], null, null, [Mask required, Staff required to disinfect surfaces between visits], null, [Fast service], null, [Comfort food, Healthy options, Kids' menu, Quick bite, Vegetarian options], [Debit cards, NFC mobile payments], null, [Lunch, Dinner, Solo dining], null, [Curbside pickup, Takeout, Dine-in, Delivery]}|\n",
      "|{[Wheelchair accessible entrance], null, null, null, null, null, null, null, null, null, null, null, null, [Debit cards], [Quick visit], null, null, [In-store pickup, In-store shopping, Delivery]}                                                                                                                                                                                                                                                                                                                                                                                                                    |\n",
      "|{[Wheelchair accessible entrance, Wheelchair accessible parking lot, Wheelchair accessible restroom, Wheelchair accessible seating], null, [Good for kids, Restroom], [Casual, Cozy], [College students, Family-friendly, Groups, Tourists], [Lunch, Dinner, Catering, Dessert, Seating], null, null, null, null, [Serves local specialty], null, [Quick bite], [Debit cards, Credit cards], null, [Lunch, Dinner, Solo dining], null, [Outdoor seating, Curbside pickup, Delivery, Takeout, Dine-in]}                                                                                                                  |\n",
      "|{[Wheelchair accessible entrance], null, null, null, null, null, null, null, null, null, null, null, null, null, [Quick visit], null, null, [Curbside pickup, In-store pickup, In-store shopping, Takeout]}                                                                                                                                                                                                                                                                                                                                                                                                             |\n",
      "|{[Wheelchair accessible entrance], null, null, null, null, null, null, null, null, null, null, null, [Oil change, Repair services], null, null, null, null, [In-store shopping]}                                                                                                                                                                                                                                                                                                                                                                                                                                        |\n",
      "|null                                                                                                                                                                                                                                                                                                                                                                                                                                                                                                                                                                                                                    |\n",
      "|null                                                                                                                                                                                                                                                                                                                                                                                                                                                                                                                                                                                                                    |\n",
      "|{null, null, null, null, null, null, null, null, [Appointment required, Mask required, Temperature check required, Staff wear masks, Staff get temperature checks, Staff required to disinfect surfaces between visits], null, null, null, null, null, null, null, null, null}                                                                                                                                                                                                                                                                                                                                          |\n",
      "|null                                                                                                                                                                                                                                                                                                                                                                                                                                                                                                                                                                                                                    |\n",
      "|{[Wheelchair accessible entrance], null, null, null, null, null, null, null, null, null, null, null, null, null, null, null, null, null}                                                                                                                                                                                                                                                                                                                                                                                                                                                                                |\n",
      "|{[Wheelchair accessible entrance], null, null, null, null, null, null, null, null, null, null, null, null, null, null, null, null, null}                                                                                                                                                                                                                                                                                                                                                                                                                                                                                |\n",
      "+------------------------------------------------------------------------------------------------------------------------------------------------------------------------------------------------------------------------------------------------------------------------------------------------------------------------------------------------------------------------------------------------------------------------------------------------------------------------------------------------------------------------------------------------------------------------------------------------------------------------+\n",
      "only showing top 20 rows\n",
      "\n"
     ]
    }
   ],
   "source": [
    "metadata_df.select('MISC').show(truncate=False)"
   ]
  },
  {
   "cell_type": "code",
   "execution_count": null,
   "metadata": {},
   "outputs": [],
   "source": []
  }
 ],
 "metadata": {
  "kernelspec": {
   "display_name": ".restaurant_reviews_env",
   "language": "python",
   "name": "python3"
  },
  "language_info": {
   "codemirror_mode": {
    "name": "ipython",
    "version": 3
   },
   "file_extension": ".py",
   "mimetype": "text/x-python",
   "name": "python",
   "nbconvert_exporter": "python",
   "pygments_lexer": "ipython3",
   "version": "3.10.11"
  }
 },
 "nbformat": 4,
 "nbformat_minor": 2
}
