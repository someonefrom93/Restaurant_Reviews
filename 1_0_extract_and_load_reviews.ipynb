{
 "cells": [
  {
   "cell_type": "code",
   "execution_count": 1,
   "metadata": {},
   "outputs": [
    {
     "name": "stdout",
     "output_type": "stream",
     "text": [
      "Cuda status: True\n",
      "Divices available: 1\n",
      "Device name: NVIDIA GeForce GTX 1650\n"
     ]
    }
   ],
   "source": [
    "import pandas as pd\n",
    "import numpy as np\n",
    "import matplotlib.pyplot as plt\n",
    "import pyarrow\n",
    "\n",
    "import os\n",
    "os.environ[\"PYTORCH_CUDA_ALLOC_CONF\"] = \"max_split_size_mb: 3000\"\n",
    "\n",
    "import torch\n",
    "\n",
    "print('Cuda status: %s' % str(torch.cuda.is_available()))\n",
    "print('Divices available: %d' % torch.cuda.device_count())\n",
    "print('Device name: %s' % torch.cuda.get_device_name())"
   ]
  },
  {
   "cell_type": "markdown",
   "metadata": {},
   "source": [
    "### Spark Session"
   ]
  },
  {
   "cell_type": "code",
   "execution_count": 2,
   "metadata": {},
   "outputs": [
    {
     "data": {
      "text/html": [
       "\n",
       "            <div>\n",
       "                <p><b>SparkSession - in-memory</b></p>\n",
       "                \n",
       "        <div>\n",
       "            <p><b>SparkContext</b></p>\n",
       "\n",
       "            <p><a href=\"http://DESKTOP-U3AQAUL:4040\">Spark UI</a></p>\n",
       "\n",
       "            <dl>\n",
       "              <dt>Version</dt>\n",
       "                <dd><code>v3.3.3</code></dd>\n",
       "              <dt>Master</dt>\n",
       "                <dd><code>local[*]</code></dd>\n",
       "              <dt>AppName</dt>\n",
       "                <dd><code>Reviews Session</code></dd>\n",
       "            </dl>\n",
       "        </div>\n",
       "        \n",
       "            </div>\n",
       "        "
      ],
      "text/plain": [
       "<pyspark.sql.session.SparkSession at 0x14c7700ebc0>"
      ]
     },
     "execution_count": 2,
     "metadata": {},
     "output_type": "execute_result"
    }
   ],
   "source": [
    "import findspark\n",
    "findspark.init('C:\\spark')\n",
    "\n",
    "from pyspark.sql import SparkSession\n",
    "\n",
    "spark = (SparkSession.builder\n",
    "         .appName('Reviews Session')\n",
    "         .config('spark.executor.memory', '4g')\n",
    "         .config('spark.executor.cores', '2')\n",
    "         .config('spark.driver.memory', '2g')\n",
    "         .getOrCreate())\n",
    "\n",
    "spark"
   ]
  },
  {
   "cell_type": "markdown",
   "metadata": {},
   "source": [
    "### Getting unzipped files from other file path"
   ]
  },
  {
   "cell_type": "code",
   "execution_count": 3,
   "metadata": {},
   "outputs": [],
   "source": [
    "from file_handling_tools import FileHandling\n",
    "\n",
    "# This will decompress the multiple zip files.\n",
    "# Having the input directory where the zip files are, and the output directory where the unzipped files will be stored.\n",
    "\n",
    "input_directory = r\"C:\\Users\\jdieg\\Desktop\\henry\\proyectos\\FINAL\\data\\google_maps\"\n",
    "output_directory = r\"C:\\Users\\jdieg\\Desktop\\data_camp\\projects\\restaurant_reviews\\data\\google\"\n",
    "# output_directory_1 = r\"C:\\Users\\jdieg\\Desktop\\data_camp\\unzipping_test\"\n",
    "\n",
    "# file_handling = FileHandling(input_directory, output_directory_1)\n",
    "\n",
    "# # Execute the decompression process (Execute it only for the first time)\n",
    "# file_handling.unzip_folders()"
   ]
  },
  {
   "cell_type": "markdown",
   "metadata": {},
   "source": [
    "### Have a look at Data Files.\n",
    "On:\n",
    "* metadata-sitios (json files)\n",
    "* reviews (json files)\n",
    "\n",
    "To get fields names, type of data, and so on.."
   ]
  },
  {
   "cell_type": "markdown",
   "metadata": {},
   "source": [
    "#### metadata-sitios (json file)"
   ]
  },
  {
   "cell_type": "code",
   "execution_count": 4,
   "metadata": {},
   "outputs": [],
   "source": [
    "# Multi Loading json files for metadata\n",
    "metadata_df = spark.read.json(\"data/google/*00[2-3]/*/metadata*/*.json\")"
   ]
  },
  {
   "cell_type": "code",
   "execution_count": 4,
   "metadata": {},
   "outputs": [
    {
     "data": {
      "text/plain": [
       "3025011"
      ]
     },
     "execution_count": 4,
     "metadata": {},
     "output_type": "execute_result"
    }
   ],
   "source": [
    "# metadata_df.count()"
   ]
  },
  {
   "cell_type": "code",
   "execution_count": 5,
   "metadata": {},
   "outputs": [
    {
     "name": "stdout",
     "output_type": "stream",
     "text": [
      "root\n",
      " |-- MISC: struct (nullable = true)\n",
      " |    |-- Accessibility: array (nullable = true)\n",
      " |    |    |-- element: string (containsNull = true)\n",
      " |    |-- Activities: array (nullable = true)\n",
      " |    |    |-- element: string (containsNull = true)\n",
      " |    |-- Amenities: array (nullable = true)\n",
      " |    |    |-- element: string (containsNull = true)\n",
      " |    |-- Atmosphere: array (nullable = true)\n",
      " |    |    |-- element: string (containsNull = true)\n",
      " |    |-- Crowd: array (nullable = true)\n",
      " |    |    |-- element: string (containsNull = true)\n",
      " |    |-- Dining options: array (nullable = true)\n",
      " |    |    |-- element: string (containsNull = true)\n",
      " |    |-- From the business: array (nullable = true)\n",
      " |    |    |-- element: string (containsNull = true)\n",
      " |    |-- Getting here: array (nullable = true)\n",
      " |    |    |-- element: string (containsNull = true)\n",
      " |    |-- Health & safety: array (nullable = true)\n",
      " |    |    |-- element: string (containsNull = true)\n",
      " |    |-- Health and safety: array (nullable = true)\n",
      " |    |    |-- element: string (containsNull = true)\n",
      " |    |-- Highlights: array (nullable = true)\n",
      " |    |    |-- element: string (containsNull = true)\n",
      " |    |-- Lodging options: array (nullable = true)\n",
      " |    |    |-- element: string (containsNull = true)\n",
      " |    |-- Offerings: array (nullable = true)\n",
      " |    |    |-- element: string (containsNull = true)\n",
      " |    |-- Payments: array (nullable = true)\n",
      " |    |    |-- element: string (containsNull = true)\n",
      " |    |-- Planning: array (nullable = true)\n",
      " |    |    |-- element: string (containsNull = true)\n",
      " |    |-- Popular for: array (nullable = true)\n",
      " |    |    |-- element: string (containsNull = true)\n",
      " |    |-- Recycling: array (nullable = true)\n",
      " |    |    |-- element: string (containsNull = true)\n",
      " |    |-- Service options: array (nullable = true)\n",
      " |    |    |-- element: string (containsNull = true)\n",
      " |-- address: string (nullable = true)\n",
      " |-- avg_rating: double (nullable = true)\n",
      " |-- category: array (nullable = true)\n",
      " |    |-- element: string (containsNull = true)\n",
      " |-- description: string (nullable = true)\n",
      " |-- gmap_id: string (nullable = true)\n",
      " |-- hours: array (nullable = true)\n",
      " |    |-- element: array (containsNull = true)\n",
      " |    |    |-- element: string (containsNull = true)\n",
      " |-- latitude: double (nullable = true)\n",
      " |-- longitude: double (nullable = true)\n",
      " |-- name: string (nullable = true)\n",
      " |-- num_of_reviews: long (nullable = true)\n",
      " |-- price: string (nullable = true)\n",
      " |-- relative_results: array (nullable = true)\n",
      " |    |-- element: string (containsNull = true)\n",
      " |-- state: string (nullable = true)\n",
      " |-- url: string (nullable = true)\n",
      "\n"
     ]
    }
   ],
   "source": [
    "# Print the Schema to have a lot at structure DataFrame\n",
    "# metadata_df.printSchema()"
   ]
  },
  {
   "cell_type": "markdown",
   "metadata": {},
   "source": [
    "It seems there are few fields with struct type, in other words, nested data which can be any type of it, since a simple list, dictionary, dictionary with nested disctionaries even so.. let's leave it for latter. \n",
    "\n",
    "And it'd be nice to have a cleaner visualization for the nested columns.  I created a simple class in the info_spark_dataset library to only print column names in the style of points "
   ]
  },
  {
   "cell_type": "code",
   "execution_count": 6,
   "metadata": {},
   "outputs": [],
   "source": [
    "# from info_spark_dataset import InfoDataSet\n",
    "# info_data = InfoDataSet(metadata_df._jdf, metadata_df.sparkSession)"
   ]
  },
  {
   "cell_type": "markdown",
   "metadata": {},
   "source": [
    "Data Dictionary for metadata\n",
    "\n",
    "Columns:\n",
    "\t\n",
    "1. MISC: Nested column, for latter.\n",
    "2. address: \n",
    "3. avg_rating\n",
    "4. category\n",
    "5. description\n",
    "6. gmap_id\n",
    "7. hours\n",
    "8. latitude\n",
    "9. longitude\n",
    "10. name\n",
    "11. num_of_reviews\n",
    "12. price\n",
    "13. relative_results\n",
    "14. state\n",
    "15. url\n",
    "\n",
    "Since we are interested on only restaurants, let's begin filtering out what places are restaurants, this may reduce dataset.\n",
    "\n",
    "### Category"
   ]
  },
  {
   "cell_type": "code",
   "execution_count": 7,
   "metadata": {},
   "outputs": [
    {
     "name": "stdout",
     "output_type": "stream",
     "text": [
      "+--------------------------------------------------------------------------------------------------------------------------------------------------------------------------+\n",
      "|category                                                                                                                                                                  |\n",
      "+--------------------------------------------------------------------------------------------------------------------------------------------------------------------------+\n",
      "|[Pharmacy]                                                                                                                                                                |\n",
      "|[General store, ATM]                                                                                                                                                      |\n",
      "|[Pet groomer]                                                                                                                                                             |\n",
      "|[Vaporizer store]                                                                                                                                                         |\n",
      "|[Medical supply store]                                                                                                                                                    |\n",
      "|[Auto repair shop]                                                                                                                                                        |\n",
      "|[Methodist church]                                                                                                                                                        |\n",
      "|[Men's clothing store, Clothing store]                                                                                                                                    |\n",
      "|[Horse boarding stable]                                                                                                                                                   |\n",
      "|[Sandwich shop, Caterer]                                                                                                                                                  |\n",
      "|[Gun shop]                                                                                                                                                                |\n",
      "|[Cajun restaurant, Caterer, Restaurant]                                                                                                                                   |\n",
      "|[Deli]                                                                                                                                                                    |\n",
      "|[Car dealer, Hyundai dealer, Nissan dealer]                                                                                                                               |\n",
      "|[River]                                                                                                                                                                   |\n",
      "|[Tattoo and piercing shop]                                                                                                                                                |\n",
      "|[Plumber, Heating contractor]                                                                                                                                             |\n",
      "|[Mobile home park]                                                                                                                                                        |\n",
      "|[Computer support and services, Computer consultant, Computer security service, Computer service]                                                                         |\n",
      "|[Movie rental kiosk, DVD store, Movie rental store, Video game rental kiosk, Video game rental service, Video game store]                                                 |\n",
      "|[Restaurant]                                                                                                                                                              |\n",
      "|[Church]                                                                                                                                                                  |\n",
      "|[Pet boarding service, Dog day care center]                                                                                                                               |\n",
      "|[Portrait studio, Photographer]                                                                                                                                           |\n",
      "|[Pet boarding service, Dog trainer]                                                                                                                                       |\n",
      "|[Auto repair shop]                                                                                                                                                        |\n",
      "|[Insurance company, Auto insurance agency, Home insurance agency, Insurance agency, Life insurance agency, Motorcycle insurance agency, Renter's insurance agency]        |\n",
      "|[Corporate office]                                                                                                                                                        |\n",
      "|[Beauty salon, Hair salon, Nail salon]                                                                                                                                    |\n",
      "|[Elevator service]                                                                                                                                                        |\n",
      "|[Shopping mall]                                                                                                                                                           |\n",
      "|[Gas station]                                                                                                                                                             |\n",
      "|[Self-storage facility]                                                                                                                                                   |\n",
      "|[Non-profit organization, Environment renewable natural resources, Environmental organization, Environmental protection organization]                                     |\n",
      "|[Cigar shop, Tobacco shop]                                                                                                                                                |\n",
      "|[Boat tour agency, Canoe & kayak rental service]                                                                                                                          |\n",
      "|[Dollar store, Craft store, Discount store, Grocery store, Home goods store, Kitchen supply store, Party store, School supply store, Toy store, Variety store]            |\n",
      "|[Lodge]                                                                                                                                                                   |\n",
      "|[Corporate office]                                                                                                                                                        |\n",
      "|[Auto glass shop]                                                                                                                                                         |\n",
      "|[Bathroom remodeler, Contractor, Remodeler]                                                                                                                               |\n",
      "|[Cell phone store, Electronic parts supplier, Electronics store, Telephone company]                                                                                       |\n",
      "|[Inn]                                                                                                                                                                     |\n",
      "|[Tire shop, Brake shop, Car battery store, Oil change service, Wheel alignment service]                                                                                   |\n",
      "|[Dog day care center, Dog trainer, Pet groomer]                                                                                                                           |\n",
      "|[Apartment complex]                                                                                                                                                       |\n",
      "|[Church]                                                                                                                                                                  |\n",
      "|[Cabin rental agency, Hotel]                                                                                                                                              |\n",
      "|[Greek Orthodox church, Church, Tourist attraction]                                                                                                                       |\n",
      "|[Coffee shop]                                                                                                                                                             |\n",
      "|[Building materials supplier, Business to business service, Ready mix concrete supplier, Wholesaler]                                                                      |\n",
      "|[Park]                                                                                                                                                                    |\n",
      "|[Vacation home rental agency]                                                                                                                                             |\n",
      "|[Dessert shop]                                                                                                                                                            |\n",
      "|[Tanning salon]                                                                                                                                                           |\n",
      "|[Personal injury attorney, Criminal justice attorney, Attorney]                                                                                                           |\n",
      "|[Landscaper, Lawn sprinkler system contractor]                                                                                                                            |\n",
      "|[Lake]                                                                                                                                                                    |\n",
      "|[Beauty salon]                                                                                                                                                            |\n",
      "|[Truck repair shop, Trailer repair shop]                                                                                                                                  |\n",
      "|[Cell phone store, Cell phone accessory store, Telecommunications service provider]                                                                                       |\n",
      "|[Cafe, Bakery, Breakfast restaurant, Caterer, Coffee shop, Delivery service, Takeout Restaurant, Salad shop, Sandwich shop, Soup restaurant]                              |\n",
      "|[Baptist church]                                                                                                                                                          |\n",
      "|[Campground]                                                                                                                                                              |\n",
      "|[Office supply store, Computer store, Electronics store, Office equipment supplier, Office furniture store, Paper distributor, Print shop, School supply store]           |\n",
      "|[Walk-in clinic, Health consultant, Medical clinic, Medical office, Medical spa, Nutritionist, Pain management physician, Reproductive health clinic, Weight loss service]|\n",
      "|[Car dealer]                                                                                                                                                              |\n",
      "|[Self service car wash]                                                                                                                                                   |\n",
      "|[Tire shop, Auto repair shop, Oil change service, Towing service, Transmission shop]                                                                                      |\n",
      "|[Restaurant, Bistro, French restaurant]                                                                                                                                   |\n",
      "|[Dog day care center, Dog trainer]                                                                                                                                        |\n",
      "|[Insurance agency]                                                                                                                                                        |\n",
      "|[Satellite communication service]                                                                                                                                         |\n",
      "|[Italian grocery store]                                                                                                                                                   |\n",
      "|[Apartment building]                                                                                                                                                      |\n",
      "|[Gas station]                                                                                                                                                             |\n",
      "|[Baptist church, Christian church, Church]                                                                                                                                |\n",
      "|[Book store]                                                                                                                                                              |\n",
      "|[Hair salon, Barber shop, Beauty salon, Hairdresser]                                                                                                                      |\n",
      "|[Roofing contractor, Remodeler]                                                                                                                                           |\n",
      "|[Medical clinic]                                                                                                                                                          |\n",
      "|[Catholic church]                                                                                                                                                         |\n",
      "|[Pediatric dentist, Dental clinic, Dentist, Emergency dental service, Orthodontist]                                                                                       |\n",
      "|[Pizza delivery, Delivery Restaurant, Takeout Restaurant, Pizza restaurant, Pizza Takeout]                                                                                |\n",
      "|[Loan agency]                                                                                                                                                             |\n",
      "|[Veterinarian]                                                                                                                                                            |\n",
      "|[Bar, Night club]                                                                                                                                                         |\n",
      "|[Auditorium]                                                                                                                                                              |\n",
      "|[Public health department]                                                                                                                                                |\n",
      "|[Veterans organization]                                                                                                                                                   |\n",
      "|[Car rental agency]                                                                                                                                                       |\n",
      "|[Forensic consultant]                                                                                                                                                     |\n",
      "|[Veterinary care, Animal hospital, Hospital]                                                                                                                              |\n",
      "|[Bridal shop]                                                                                                                                                             |\n",
      "|[Catholic church, Church]                                                                                                                                                 |\n",
      "|[Automation company]                                                                                                                                                      |\n",
      "|[Shopping mall]                                                                                                                                                           |\n",
      "|[Waste management service, Demolition contractor]                                                                                                                         |\n",
      "|[Restaurant, Caterer, Coffee store, Takeout Restaurant, Salad shop, Sandwich shop, Soup shop]                                                                             |\n",
      "|[Visitor center]                                                                                                                                                          |\n",
      "+--------------------------------------------------------------------------------------------------------------------------------------------------------------------------+\n",
      "only showing top 100 rows\n",
      "\n"
     ]
    }
   ],
   "source": [
    "# Have a look at some rows on category\n",
    "# metadata_df.select('category').show(100, truncate=False)"
   ]
  },
  {
   "cell_type": "markdown",
   "metadata": {},
   "source": [
    "There are multiple categories that are not necesary restaurants. There are many ways to approach this, but here, I will get for good to filter any rows's category that contains at least 1 word -\"Restaurant\"-\n",
    "\n",
    "To get this done:\n",
    "* Create an User Defined Functions:\n",
    "    * That flags the counting of any \"restaurant\" occurance\n",
    "* Create a new column with the prior counting of \"restaurant\" word\n",
    "* Filter out any row that flags more than 0 rows counting"
   ]
  },
  {
   "cell_type": "code",
   "execution_count": 5,
   "metadata": {},
   "outputs": [],
   "source": [
    "\n",
    "import pyspark.sql.functions as F\n",
    "from pyspark.sql.types import *\n",
    "\n",
    "\n",
    "def filter_category(target_cat, categories):\n",
    "    \"\"\"\n",
    "    Filter categories based on a target category.\n",
    "\n",
    "    This function takes a target category and a list of categories as input.\n",
    "    It counts the number of categories containing the target category (case-insensitive) within them.\n",
    "    \n",
    "    Parameters:\n",
    "    - target_cat (str): The target category to filter.\n",
    "    - categories (list of str): A list of categories to search within.\n",
    "    \n",
    "    Returns:\n",
    "    - int: The count of categories containing the target category (case-insensitive).\n",
    "\n",
    "    Example:\n",
    "    ```python\n",
    "    target_category = 'Restaurant'\n",
    "    categories = ['Fast Food Restaurant', 'Italian Restaurant', 'Café']\n",
    "    count = filter_category(target_category, categories)\n",
    "    print(count)  # Output: 2\n",
    "    ```\n",
    "    \"\"\"\n",
    "    # If categories is None, return 0\n",
    "    if categories is None:\n",
    "        return 0\n",
    "    # Count the number of categories containing the target category (case-insensitive)\n",
    "    return len([category for category in categories if target_cat.lower() in {cat.lower() for cat in category.split()}])\n",
    "\n",
    "\n",
    "# Define a User Defined Function (UDF) using the filter_category function\n",
    "udf_FilterCategory = F.udf(filter_category, IntegerType())\n",
    "\n",
    "# Apply the UDF to the DataFrame to create a new column 'cat_count_temp' containing category counts\n",
    "metadata_df = metadata_df.withColumn('cat_count_temp', udf_FilterCategory(F.lit('Restaurant'), metadata_df.category))\n",
    "# Filter the DataFrame to include only rows where 'cat_count_temp' is greater than 0\n",
    "output_dataframe = metadata_df.filter(metadata_df.cat_count_temp.cast('int') > 0)\n"
   ]
  },
  {
   "cell_type": "code",
   "execution_count": 6,
   "metadata": {},
   "outputs": [
    {
     "data": {
      "text/plain": [
       "212008"
      ]
     },
     "execution_count": 6,
     "metadata": {},
     "output_type": "execute_result"
    }
   ],
   "source": [
    "restaurants_metadata = metadata_df.filter(metadata_df.cat_count_temp.cast('int') > 0)\n",
    "# restaurants_metadata.count()"
   ]
  },
  {
   "cell_type": "markdown",
   "metadata": {},
   "source": [
    "### Finally, our dataset containing only Restaurant as category."
   ]
  },
  {
   "cell_type": "code",
   "execution_count": 7,
   "metadata": {},
   "outputs": [],
   "source": [
    "restaurants_metadata = restaurants_metadata.drop(restaurants_metadata['cat_count_temp'])"
   ]
  },
  {
   "cell_type": "code",
   "execution_count": 64,
   "metadata": {},
   "outputs": [],
   "source": [
    "# restaurants_metadata.count(), len(restaurants_metadata.columns) --> (212008, 15)"
   ]
  },
  {
   "cell_type": "code",
   "execution_count": 8,
   "metadata": {},
   "outputs": [],
   "source": [
    "google_ids = restaurants_metadata.select('gmap_id')"
   ]
  },
  {
   "cell_type": "code",
   "execution_count": 9,
   "metadata": {},
   "outputs": [],
   "source": [
    "google_ids = google_ids.withColumnRenamed('gmap_id','gmap_id_1')"
   ]
  },
  {
   "cell_type": "markdown",
   "metadata": {},
   "source": [
    "### Extracting reviews from Google Json Files"
   ]
  },
  {
   "cell_type": "code",
   "execution_count": 10,
   "metadata": {},
   "outputs": [],
   "source": [
    "# First read all file from the data folder in the google_review_restaurants.\n",
    "# Remember, PySpark supports global file paths to leaveare wild cards in directories\n",
    "# Wherever a .json file is.\n",
    "google_df = spark.read.json(\"data/google/*/*/reviews-estados/review-*/*.json\")"
   ]
  },
  {
   "cell_type": "code",
   "execution_count": 11,
   "metadata": {},
   "outputs": [],
   "source": [
    "# google_df.count(), google_df.columns\n",
    "# Results >>\n",
    "# (89946359,\n",
    "#  ['gmap_id', 'name', 'pics', 'rating', 'resp', 'text', 'time', 'user_id'])"
   ]
  },
  {
   "cell_type": "code",
   "execution_count": 12,
   "metadata": {},
   "outputs": [
    {
     "data": {
      "text/plain": [
       "[('gmap_id', 'string'),\n",
       " ('name', 'string'),\n",
       " ('pics', 'array<struct<url:array<string>>>'),\n",
       " ('rating', 'bigint'),\n",
       " ('resp', 'struct<text:string,time:bigint>'),\n",
       " ('text', 'string'),\n",
       " ('time', 'bigint'),\n",
       " ('user_id', 'string')]"
      ]
     },
     "execution_count": 12,
     "metadata": {},
     "output_type": "execute_result"
    }
   ],
   "source": [
    "google_df.dtypes"
   ]
  },
  {
   "cell_type": "markdown",
   "metadata": {},
   "source": [
    "In order to filter out all reviews that are related restaurantes, we are going to use the last restaurants data frame, and use the gmap_id field to join it to the reviews so by right joining will allow to get only all those rows in the restaurante dataframe."
   ]
  },
  {
   "cell_type": "code",
   "execution_count": 13,
   "metadata": {},
   "outputs": [],
   "source": [
    "# For a beter memory usage, we can broadcast the smaller dataframe so all resourses will concentrate to join on the fields values\n",
    "from pyspark.sql.functions import broadcast\n",
    "\n",
    "restaurant_reviews = google_df.join(\n",
    "    # Broadcast the smaller dataframe\n",
    "    broadcast(google_ids), \n",
    "    # Join on gmap_id \n",
    "    google_df['gmap_id'] == google_ids['gmap_id_1'], \n",
    "    # To the right -google_ids datafrane-\n",
    "    how='right')"
   ]
  },
  {
   "cell_type": "code",
   "execution_count": 14,
   "metadata": {},
   "outputs": [],
   "source": [
    "restaurant_reviews = restaurant_reviews.drop(restaurant_reviews['pics'])\n",
    "restaurant_reviews = restaurant_reviews.drop(restaurant_reviews['resp'])\n",
    "restaurant_reviews = restaurant_reviews.drop(restaurant_reviews['gmap_id_1'])\n"
   ]
  },
  {
   "cell_type": "code",
   "execution_count": 15,
   "metadata": {},
   "outputs": [],
   "source": [
    "# restaurant_reviews.show(20)"
   ]
  },
  {
   "cell_type": "code",
   "execution_count": 16,
   "metadata": {},
   "outputs": [],
   "source": [
    "# Filtering out nulls on texts column\n",
    "text_filter = ~restaurant_reviews['text'].isNull()\n",
    "restaurant_reviews = restaurant_reviews.where(text_filter)"
   ]
  },
  {
   "cell_type": "code",
   "execution_count": 17,
   "metadata": {},
   "outputs": [],
   "source": [
    "# restaurant_reviews.count()\n",
    "# this counting should compute 7093988"
   ]
  },
  {
   "cell_type": "markdown",
   "metadata": {},
   "source": [
    "LEt's get rid of dulicates so we can get a clean table of unnecesary rows"
   ]
  },
  {
   "cell_type": "code",
   "execution_count": 18,
   "metadata": {},
   "outputs": [],
   "source": [
    "restaurant_reviews = restaurant_reviews.drop_duplicates()\n",
    "# restaurant_reviews.count()"
   ]
  },
  {
   "cell_type": "markdown",
   "metadata": {},
   "source": [
    "Let's convert dates field, from unix date to date format. It will be used for partition."
   ]
  },
  {
   "cell_type": "code",
   "execution_count": 19,
   "metadata": {},
   "outputs": [],
   "source": [
    "from pyspark.sql.functions import from_unixtime, year\n",
    "\n",
    "restaurant_reviews = restaurant_reviews.withColumn('date', from_unixtime(restaurant_reviews.time / 1000))\n",
    "restaurant_reviews = restaurant_reviews.drop(restaurant_reviews['time'])"
   ]
  },
  {
   "cell_type": "code",
   "execution_count": 20,
   "metadata": {},
   "outputs": [],
   "source": [
    "restaurant_reviews = restaurant_reviews.withColumn('year', year(\"date\"))"
   ]
  },
  {
   "cell_type": "markdown",
   "metadata": {},
   "source": [
    "Treating `\\n` and `,` as plain text by adding an extra coma to text reviews will ensure that those two characters are going to be taken as text and not as delimeters"
   ]
  },
  {
   "cell_type": "code",
   "execution_count": 21,
   "metadata": {},
   "outputs": [],
   "source": [
    "from pyspark.sql.functions import col, regexp_replace, regexp_extract, when\n",
    "\n",
    "# Replace double quotes with two quoptes to escape them\n",
    "restaurant_reviews = restaurant_reviews.withColumn('text', regexp_replace(col(\"text\"), '\"', '\"\"'))\n",
    "\n",
    "# Replace the '\\n' with period with space in forward\n",
    "restaurant_reviews = restaurant_reviews.withColumn('text', regexp_replace(col('text'), '\\n', '. '))\n",
    "\n",
    "# Enclose text in double quotes\n",
    "restaurant_reviews = restaurant_reviews.withColumn('text', col('text').cast('string'))\n",
    "\n",
    "# rename column\n",
    "restaurant_reviews = restaurant_reviews.withColumnRenamed('text', 'reviews')"
   ]
  },
  {
   "cell_type": "code",
   "execution_count": 22,
   "metadata": {},
   "outputs": [],
   "source": [
    "# Define a resgular expression to extract text following \"(translated by Google)\"\n",
    "pattern = r'\\(Translated by Google\\)(.*)?\\(Original\\)'\n",
    "\n",
    "# Extract text\n",
    "restaurant_reviews = restaurant_reviews.withColumn('reviews', \n",
    "                                                   when(col(\"reviews\").startswith('(Translated by Google)'), regexp_extract(\"reviews\", pattern, 1))\n",
    "                                                   .otherwise(col(\"reviews\")))"
   ]
  },
  {
   "cell_type": "code",
   "execution_count": 23,
   "metadata": {},
   "outputs": [],
   "source": [
    "from pyspark.sql.functions import col, trim, regexp_replace\n",
    "\n",
    "# Cast rating as int\n",
    "restaurant_reviews = restaurant_reviews.withColumn(\"rating\", col(\"rating\").cast(\"int\"))\n",
    "\n",
    "# Trim any trailing and leading speaces\n",
    "restaurant_reviews = restaurant_reviews.withColumn(\"reviews\", trim(col(\"reviews\")))\n",
    "\n",
    "# Get rid of any null value in reviews text\n",
    "restaurant_reviews = restaurant_reviews.withColumn(\"reviews\", regexp_replace(\"reviews\", \"\\x00\", \"\"))"
   ]
  },
  {
   "cell_type": "markdown",
   "metadata": {},
   "source": [
    "## Load to PostgreSQL"
   ]
  },
  {
   "cell_type": "code",
   "execution_count": 24,
   "metadata": {},
   "outputs": [],
   "source": [
    "# Upload pyspark dataframe into postgreSQL\n",
    "\n",
    "dataBaseName = \"restaurt_project\"\n",
    "\n",
    "\n",
    "url = f\"jdbc:postgresql://127.0.0.1:5432/{dataBaseName}\"\n",
    "properties = {\n",
    "    \"user\": \"postgres\",\n",
    "    \"password\": \"2050\",\n",
    "    \"driver\": \"org.postgresql.Driver\",\n",
    "    \"encoding\": \"utf-8\"\n",
    "}\n",
    "\n",
    "table_name = \"restaurants_reviews\"\n",
    "\n",
    "restaurant_reviews.write.jdbc(url=url, table=table_name, mode=\"overwrite\", properties=properties)"
   ]
  },
  {
   "cell_type": "markdown",
   "metadata": {},
   "source": [
    "### In case you need csv or parquet files, you can run the folowwing cells."
   ]
  },
  {
   "cell_type": "code",
   "execution_count": 145,
   "metadata": {},
   "outputs": [],
   "source": [
    "# ## Write csv files partitioned by year\n",
    "# restaurant_reviews \\\n",
    "#     .coalesce(1) \\\n",
    "#     .write \\\n",
    "#     .partitionBy(\"year\") \\\n",
    "#     .option(\"header\", \"true\") \\\n",
    "#     .option(\"escape\", \"\\\"\") \\\n",
    "#     .mode(\"overwrite\") \\\n",
    "#     .csv(\"data/reviews_data\")"
   ]
  },
  {
   "cell_type": "code",
   "execution_count": 81,
   "metadata": {},
   "outputs": [],
   "source": [
    "# ## Write parquet files partitioned by year\n",
    "# restaurant_reviews \\\n",
    "#     .coalesce(1) \\\n",
    "#     .write \\\n",
    "#     .partitionBy(\"year\") \\\n",
    "#     .option(\"header\", \"true\") \\\n",
    "#     .option(\"escape\", \"\\\"\") \\\n",
    "#     .mode(\"overwrite\") \\\n",
    "#     .parquet(\"data/reviews_data_parquet\")"
   ]
  },
  {
   "cell_type": "markdown",
   "metadata": {},
   "source": [
    "## Metadata Ingestion"
   ]
  },
  {
   "cell_type": "code",
   "execution_count": 38,
   "metadata": {},
   "outputs": [
    {
     "name": "stdout",
     "output_type": "stream",
     "text": [
      "root\n",
      " |-- MISC: struct (nullable = true)\n",
      " |    |-- Accessibility: array (nullable = true)\n",
      " |    |    |-- element: string (containsNull = true)\n",
      " |    |-- Activities: array (nullable = true)\n",
      " |    |    |-- element: string (containsNull = true)\n",
      " |    |-- Amenities: array (nullable = true)\n",
      " |    |    |-- element: string (containsNull = true)\n",
      " |    |-- Atmosphere: array (nullable = true)\n",
      " |    |    |-- element: string (containsNull = true)\n",
      " |    |-- Crowd: array (nullable = true)\n",
      " |    |    |-- element: string (containsNull = true)\n",
      " |    |-- Dining options: array (nullable = true)\n",
      " |    |    |-- element: string (containsNull = true)\n",
      " |    |-- From the business: array (nullable = true)\n",
      " |    |    |-- element: string (containsNull = true)\n",
      " |    |-- Getting here: array (nullable = true)\n",
      " |    |    |-- element: string (containsNull = true)\n",
      " |    |-- Health & safety: array (nullable = true)\n",
      " |    |    |-- element: string (containsNull = true)\n",
      " |    |-- Health and safety: array (nullable = true)\n",
      " |    |    |-- element: string (containsNull = true)\n",
      " |    |-- Highlights: array (nullable = true)\n",
      " |    |    |-- element: string (containsNull = true)\n",
      " |    |-- Lodging options: array (nullable = true)\n",
      " |    |    |-- element: string (containsNull = true)\n",
      " |    |-- Offerings: array (nullable = true)\n",
      " |    |    |-- element: string (containsNull = true)\n",
      " |    |-- Payments: array (nullable = true)\n",
      " |    |    |-- element: string (containsNull = true)\n",
      " |    |-- Planning: array (nullable = true)\n",
      " |    |    |-- element: string (containsNull = true)\n",
      " |    |-- Popular for: array (nullable = true)\n",
      " |    |    |-- element: string (containsNull = true)\n",
      " |    |-- Recycling: array (nullable = true)\n",
      " |    |    |-- element: string (containsNull = true)\n",
      " |    |-- Service options: array (nullable = true)\n",
      " |    |    |-- element: string (containsNull = true)\n",
      " |-- address: string (nullable = true)\n",
      " |-- avg_rating: double (nullable = true)\n",
      " |-- category: array (nullable = true)\n",
      " |    |-- element: string (containsNull = true)\n",
      " |-- description: string (nullable = true)\n",
      " |-- gmap_id: string (nullable = true)\n",
      " |-- hours: array (nullable = true)\n",
      " |    |-- element: array (containsNull = true)\n",
      " |    |    |-- element: string (containsNull = true)\n",
      " |-- latitude: double (nullable = true)\n",
      " |-- longitude: double (nullable = true)\n",
      " |-- name: string (nullable = true)\n",
      " |-- num_of_reviews: long (nullable = true)\n",
      " |-- price: string (nullable = true)\n",
      " |-- relative_results: array (nullable = true)\n",
      " |    |-- element: string (containsNull = true)\n",
      " |-- state: string (nullable = true)\n",
      " |-- url: string (nullable = true)\n",
      "\n"
     ]
    }
   ],
   "source": [
    "restaurants_metadata.printSchema()"
   ]
  },
  {
   "cell_type": "markdown",
   "metadata": {},
   "source": [
    "### Unpacking sub fields in MISC column"
   ]
  },
  {
   "cell_type": "code",
   "execution_count": 125,
   "metadata": {},
   "outputs": [],
   "source": [
    "# For testing porpuses, let's grab some data from the hole dataset- \n",
    "columns_for_miscelaneus = [\"gmap_id\", \"MISC\"]\n",
    "miscelaneus = restaurants_metadata.selectExpr(columns_for_miscelaneus)\n",
    "# Take only 10 rows form dataset\n",
    "testing = miscelaneus.limit(10)"
   ]
  },
  {
   "cell_type": "code",
   "execution_count": 126,
   "metadata": {},
   "outputs": [],
   "source": [
    "from pyspark.sql.functions import col\n",
    "\n",
    "# Define the list of subfields\n",
    "# Getting field's names from struct type -keys-\n",
    "misc_schema = (testing.select(\"MISC\")\n",
    "               # Getting schema\n",
    "               .schema[0]\n",
    "               # Then dtype\n",
    "               .dataType)\n",
    "\n",
    "sub_fields = [field.name for field in misc_schema.fields]\n",
    "\n",
    "# Creating a list of column expresions\n",
    "column_expr = [col(f\"MISC.{subField}\").alias(f\"{subField}\") for subField in sub_fields]\n",
    "\n",
    "# Select all existing columns along with the new columns\n",
    "miscelaneus = miscelaneus.select(*testing.columns, *column_expr).drop(\"MISC\")"
   ]
  },
  {
   "cell_type": "code",
   "execution_count": 128,
   "metadata": {},
   "outputs": [],
   "source": [
    "table_name = \"misc_categories\"\n",
    "\n",
    "miscelaneus.write.jdbc(url=url, table=table_name, mode=\"overwrite\", properties=properties)"
   ]
  },
  {
   "cell_type": "code",
   "execution_count": null,
   "metadata": {},
   "outputs": [],
   "source": []
  }
 ],
 "metadata": {
  "kernelspec": {
   "display_name": ".restaurant_reviews_env",
   "language": "python",
   "name": "python3"
  },
  "language_info": {
   "codemirror_mode": {
    "name": "ipython",
    "version": 3
   },
   "file_extension": ".py",
   "mimetype": "text/x-python",
   "name": "python",
   "nbconvert_exporter": "python",
   "pygments_lexer": "ipython3",
   "version": "3.10.11"
  }
 },
 "nbformat": 4,
 "nbformat_minor": 2
}
